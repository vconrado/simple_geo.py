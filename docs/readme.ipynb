{
 "cells": [
  {
   "cell_type": "markdown",
   "metadata": {},
   "source": [
    "# Python Client API for WFS and WTSS"
   ]
  },
  {
   "cell_type": "markdown",
   "metadata": {},
   "source": [
    "## Building and installing simple_geo.py from source"
   ]
  },
  {
   "cell_type": "markdown",
   "metadata": {},
   "source": [
    "1. In the shell, type\n",
    "\n",
    "```bash\n",
    "\n",
    "\n",
    "  git clone https://github.com/vconrado/simple_geo.py.git\n",
    "  cd simple_geo.py/src\n",
    "  pip install .\n",
    "```"
   ]
  },
  {
   "cell_type": "markdown",
   "metadata": {},
   "source": [
    "## Using SimpleGeo.py"
   ]
  },
  {
   "cell_type": "markdown",
   "metadata": {},
   "source": [
    "### Listing Features and Coverages\n",
    "\n",
    "In the following example, we import the SimpleGeo module and then create a SimpleGeo object to query and print the list of available features and coverages in the server.\n"
   ]
  },
  {
   "cell_type": "code",
   "execution_count": null,
   "metadata": {},
   "outputs": [],
   "source": [
    "from SimpleGeo import SimpleGeo\n",
    "\n",
    "# connect to wfs and wtss servers\n",
    "s = SimpleGeo(wfs=\"http://wfs_server:8080/geoserver-esensing\", wtss=\"http://wtss_server:7654\")\n",
    "\n",
    "# print available features\n",
    "print(s.features())\n",
    "\n",
    "# print available coverages\n",
    "print(s.coverages())"
   ]
  },
  {
   "cell_type": "markdown",
   "metadata": {},
   "source": [
    "## Getting metadata\n",
    "\n",
    "In the following example, we use SimpleGeo to retrieve the details of a feature and a coverage. Then we format the response."
   ]
  },
  {
   "cell_type": "code",
   "execution_count": null,
   "metadata": {},
   "outputs": [],
   "source": [
    "import json\n",
    "\n",
    "# Feature estados_bra\n",
    "f = s.feature('esensing:estados_bra')\n",
    "print(f.describe())\n",
    "\n",
    "\n",
    "# Coverage rpth\n",
    "c = s.coverage('rpth')\n",
    "print(c.describe())"
   ]
  },
  {
   "cell_type": "markdown",
   "metadata": {},
   "source": [
    "## Retrieving features\n",
    "\n",
    "In the following example, we retrieve a feature from the WFS server. SimpleGeo returns a GeoPandasDataFrame with the features."
   ]
  },
  {
   "cell_type": "code",
   "execution_count": null,
   "metadata": {},
   "outputs": [],
   "source": [
    "f = s.feature('esensing:estados_bra')\n",
    "estados = f.get()\n",
    "# displaying \n",
    "display(estados.head())"
   ]
  },
  {
   "cell_type": "markdown",
   "metadata": {},
   "source": [
    "### Feature methods\n",
    "\n",
    "- **max_features**: limit the number of features returned\n",
    "- **sort_by**: sorts by the returning features using one (ou more) attributes\n",
    "- **attributes**: selects attributes to be retrieved\n",
    "- **filter**: filtering features by its spatial and non-spatial attributes\n"
   ]
  },
  {
   "cell_type": "markdown",
   "metadata": {},
   "source": [
    "In the following example, we retrieve a feature from the WFS server using all allowed options. You can combine then in many ways to select only the features you want."
   ]
  },
  {
   "cell_type": "code",
   "execution_count": null,
   "metadata": {},
   "outputs": [],
   "source": [
    "# import SimpleGeo Predicates\n",
    "from SimpleGeo import Predicates as pre\n",
    "\n",
    "f = s.feature(\"esensing:focos_bra_2016\") \\\n",
    "    .attributes([\"id\", \"municipio\", \"timestamp\", \"regiao\"]) \\\n",
    "    .filter(pre.OR(\n",
    "    pre.AND(\n",
    "        pre.EQ(\"satelite_referencia\", \"true\"),\n",
    "        pre.GE(\"timestamp\", \"2016-01-01\"),\n",
    "        pre.LT(\"timestamp\", \"2016-02-01\"),\n",
    "        pre.WITHIN(\n",
    "            \"POLYGON((-49.515628859948507 -19.394602563415745,-48.020567850467053 -19.610579617637825,-48.354439522883652 -21.052347219666608,-49.849500507163917 -20.836369963642884,-49.515628859948507 -19.394602563415745))\"),\n",
    "    ), \\\n",
    "    pre.NE(\"regiao\", \"SE\") \\\n",
    "    )) \\\n",
    "    .max_features(10) \\\n",
    "    .sort_by(\"regiao\")\n",
    "    \n",
    "focos = f.get()\n",
    "display(focos.head())"
   ]
  }
 ],
 "metadata": {
  "kernelspec": {
   "display_name": "Python [sgeo]",
   "language": "python",
   "name": "sgeo"
  },
  "language_info": {
   "codemirror_mode": {
    "name": "ipython",
    "version": 2
   },
   "file_extension": ".py",
   "mimetype": "text/x-python",
   "name": "python",
   "nbconvert_exporter": "python",
   "pygments_lexer": "ipython2",
   "version": "2.7.14"
  }
 },
 "nbformat": 4,
 "nbformat_minor": 2
}
